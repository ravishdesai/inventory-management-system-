{
 "cells": [
  {
   "cell_type": "code",
   "execution_count": 2,
   "id": "56b031b0",
   "metadata": {},
   "outputs": [
    {
     "name": "stdout",
     "output_type": "stream",
     "text": [
      "Want to add new product - (Y/N)\n",
      "N\n",
      "You choose to exit. :)\n",
      "Want to update inventory (Y/N)\n",
      "N\n",
      "You choose to exit. :)\n"
     ]
    }
   ],
   "source": [
    "import json\n",
    "\n",
    "# reading from record json file\n",
    "\n",
    "fd = open(\"record_data.json\",'r')\n",
    "txt = fd.read()\n",
    "fd.close()\n",
    "\n",
    "records = json.loads(txt)\n",
    "\n",
    "\n",
    "# Add new product to Inventory\n",
    "\n",
    "print(\"Want to add new product - (Y/N)\")\n",
    "choice = input()\n",
    "if(choice == 'Y'):\n",
    "    prod_id = str(len(records) + 1001)\n",
    "    name = input(\"Enter product name - \")\n",
    "    price = input(\"Enter price - \")\n",
    "    quantity = input(\"Enter quantity - \")\n",
    "    discount = input(\"Enter discount percentage (0 if none) - \")\n",
    "    category = input(\"Enter product category - \")\n",
    "    mfg_date = input(\"Enter manufacturing date - \")\n",
    "    records[prod_id] = {'Product_Name': name,\n",
    "                        'Product_Price': price,\n",
    "                        \"Product_Discount('%')\": discount,\n",
    "                        'Product_Quantity': quantity,\n",
    "                        'Product_Category': category,\n",
    "                        'Manufacture_Date': mfg_date}\n",
    "    print(\"Successfully added product with ID as \" + prod_id)\n",
    "else:\n",
    "    print(\"You choose to exit. :)\")\n",
    "    \n",
    "\n",
    "# update existing inventory\n",
    "\n",
    "print(\"Want to update inventory (Y/N)\")\n",
    "choice = input()\n",
    "\n",
    "if choice == 'Y':\n",
    "    product_id = input(\"Enter product ID - \")\n",
    "    \n",
    "    for i in records[product_id]:\n",
    "        print(i,\"=\", records[product_id][i])\n",
    "    \n",
    "    keys = ['Product_Name', 'Product_Price', \"Product_Discount('%')\", \n",
    "            'Product_Category', 'Product_Quantity', 'Manufacture_Date']\n",
    "    \n",
    "    print(\"\\nWhat do you want to change ? \")\n",
    "    print(\"1. Product Name \\n2. Product Price \\n3. Product Discount \\n4. Product Category \\n5. Product Quantity\")\n",
    "    print(\"6. Mfg Date\")\n",
    "    number = int(input(\"Enter choice number - \"))\n",
    "    update_val = input(\"Enter new value for \" + keys[number-1] + \" - \")\n",
    "    records[product_id][keys[number-1]] = update_val\n",
    "    print(\"Successfully updated product with ID as \" + product_id)\n",
    "else:\n",
    "    print(\"You choose to exit. :)\")\n",
    "\n",
    "\n",
    "# writing back to record json file\n",
    "\n",
    "fd = open(\"record_data.json\", 'w')\n",
    "js = json.dumps(records)\n",
    "fd.write(js)\n",
    "fd.close()"
   ]
  },
  {
   "cell_type": "code",
   "execution_count": 3,
   "id": "1ad5a43f",
   "metadata": {},
   "outputs": [
    {
     "data": {
      "text/plain": [
       "31"
      ]
     },
     "execution_count": 3,
     "metadata": {},
     "output_type": "execute_result"
    }
   ],
   "source": [
    "len(records)"
   ]
  },
  {
   "cell_type": "code",
   "execution_count": 4,
   "id": "c3532efc",
   "metadata": {},
   "outputs": [
    {
     "data": {
      "text/plain": [
       "{'Product_Name': 'Poco 3',\n",
       " 'Product_Price': '8999',\n",
       " \"Product_Discount('%')\": '12',\n",
       " 'Product_Quantity': '25',\n",
       " 'Product_Category': 'Mobiles',\n",
       " 'Manufacture_Date': '3 sept 2021'}"
      ]
     },
     "execution_count": 4,
     "metadata": {},
     "output_type": "execute_result"
    }
   ],
   "source": [
    "records['1031']"
   ]
  },
  {
   "cell_type": "code",
   "execution_count": null,
   "id": "9b75fa94",
   "metadata": {},
   "outputs": [],
   "source": []
  }
 ],
 "metadata": {
  "kernelspec": {
   "display_name": "Python 3",
   "language": "python",
   "name": "python3"
  },
  "language_info": {
   "codemirror_mode": {
    "name": "ipython",
    "version": 3
   },
   "file_extension": ".py",
   "mimetype": "text/x-python",
   "name": "python",
   "nbconvert_exporter": "python",
   "pygments_lexer": "ipython3",
   "version": "3.8.8"
  }
 },
 "nbformat": 4,
 "nbformat_minor": 5
}
